{
  "nbformat": 4,
  "nbformat_minor": 0,
  "metadata": {
    "colab": {
      "name": "Neural Networks.ipynb",
      "provenance": [],
      "authorship_tag": "ABX9TyM08E/Szv/r80Tu1icCZv3i",
      "include_colab_link": true
    },
    "kernelspec": {
      "name": "python3",
      "display_name": "Python 3"
    },
    "language_info": {
      "name": "python"
    }
  },
  "cells": [
    {
      "cell_type": "markdown",
      "metadata": {
        "id": "view-in-github",
        "colab_type": "text"
      },
      "source": [
        "<a href=\"https://colab.research.google.com/github/piyush033/Neural_Network/blob/main/Neural_Networks.ipynb\" target=\"_parent\"><img src=\"https://colab.research.google.com/assets/colab-badge.svg\" alt=\"Open In Colab\"/></a>"
      ]
    },
    {
      "cell_type": "code",
      "source": [
        "import tensorflow as tf\n",
        "import numpy as np"
      ],
      "metadata": {
        "id": "fQx6LNlj8Td_"
      },
      "execution_count": 1,
      "outputs": []
    },
    {
      "cell_type": "code",
      "source": [
        "input_data = np.array([2,3])\n",
        "weight = {\"node_0\": np.array([1,1]),\n",
        "          \"node_1\": np.array([-1,1]),\n",
        "          \"output\": np.array([2,-1])}"
      ],
      "metadata": {
        "id": "8-HrqzLA_UvH"
      },
      "execution_count": 2,
      "outputs": []
    },
    {
      "cell_type": "code",
      "source": [
        "node_0_value = (input_data * weight[\"node_0\"]).sum()\n",
        "node_1_value = (input_data * weight[\"node_1\"]).sum()"
      ],
      "metadata": {
        "id": "cT1yS7sB7pQB"
      },
      "execution_count": 3,
      "outputs": []
    },
    {
      "cell_type": "code",
      "source": [
        "hidden_layer_values = np.array([node_0_value,node_1_value])\n",
        "print(hidden_layer_values)"
      ],
      "metadata": {
        "colab": {
          "base_uri": "https://localhost:8080/"
        },
        "id": "dNxep7gU8Vg9",
        "outputId": "1c6c1b03-b6aa-4307-bd72-3841a6d83711"
      },
      "execution_count": 4,
      "outputs": [
        {
          "output_type": "stream",
          "name": "stdout",
          "text": [
            "[5 1]\n"
          ]
        }
      ]
    },
    {
      "cell_type": "code",
      "source": [
        "output_values = (hidden_layer_values * weight[\"output\"])\n",
        "print(output_values)"
      ],
      "metadata": {
        "colab": {
          "base_uri": "https://localhost:8080/"
        },
        "id": "-ybPNJP78rcM",
        "outputId": "b11fdeeb-e5ae-4b33-bce2-e477cdc9ab00"
      },
      "execution_count": 5,
      "outputs": [
        {
          "output_type": "stream",
          "name": "stdout",
          "text": [
            "[10 -1]\n"
          ]
        }
      ]
    },
    {
      "cell_type": "code",
      "source": [],
      "metadata": {
        "id": "Lc90QSnK9fVF"
      },
      "execution_count": null,
      "outputs": []
    }
  ]
}